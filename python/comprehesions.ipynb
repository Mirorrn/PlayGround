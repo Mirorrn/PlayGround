{
 "cells": [
  {
   "cell_type": "markdown",
   "metadata": {},
   "source": [
    "<h1> Comprehensions Tuturial</h1> Starting with lists"
   ]
  },
  {
   "cell_type": "code",
   "execution_count": 3,
   "metadata": {},
   "outputs": [
    {
     "name": "stdout",
     "output_type": "stream",
     "text": [
      "[0, 1, 2, 3, 4, 5, 6, 7, 8, 9]\n",
      "[0, 1, 0, 1, 0, 1, 0, 1, 0, 1]\n"
     ]
    }
   ],
   "source": [
    "values = []\n",
    "\n",
    "for x in range(10):\n",
    "    values.append(x)\n",
    "print(values)\n",
    "\n",
    "values = [x % 2 for x in range(10)]   \n",
    "print(values)"
   ]
  },
  {
   "cell_type": "markdown",
   "metadata": {},
   "source": [
    "Now with conditions"
   ]
  },
  {
   "cell_type": "code",
   "execution_count": 38,
   "metadata": {},
   "outputs": [
    {
     "name": "stdout",
     "output_type": "stream",
     "text": [
      "[0, 2, 4, 6, 8]\n",
      "[0, 2, 4, 6, 8]\n",
      "[0, 'not even', 2, 'not even', 4, 'not even', 6, 'not even', 8, 'not even']\n",
      "[0, 2, 4, 6, 8]\n"
     ]
    }
   ],
   "source": [
    "evens = []\n",
    "for x in range(10):\n",
    "    if x % 2 == 0:\n",
    "        evens.append(x)\n",
    "print(evens)\n",
    "\n",
    "evens = [x for x in range(10) if x % 2 == 0]\n",
    "print(evens)\n",
    "\n",
    "evens = [x if x % 2 == 0 else 'not even' for x in range(10)]\n",
    "print(evens)\n",
    "\n",
    "evens = [x if x % 2 == 0 else 0 for x in range(10)]\n",
    "print(list(set(evens)))\n"
   ]
  },
  {
   "cell_type": "markdown",
   "metadata": {},
   "source": [
    "Multiple conditions"
   ]
  },
  {
   "cell_type": "code",
   "execution_count": 43,
   "metadata": {},
   "outputs": [
    {
     "name": "stdout",
     "output_type": "stream",
     "text": [
      "['martin', 'jan']\n"
     ]
    }
   ],
   "source": [
    "names = [\"martin\", \"sarah\", \"jan\",\"mirka\"]\n",
    "\n",
    "valid_names = [name for name in names if \"a\" in name if \"n\" in name ]\n",
    "print(valid_names)"
   ]
  },
  {
   "cell_type": "markdown",
   "metadata": {},
   "source": [
    "Double nested for matrixs"
   ]
  },
  {
   "cell_type": "code",
   "execution_count": 44,
   "metadata": {},
   "outputs": [
    {
     "name": "stdout",
     "output_type": "stream",
     "text": [
      "[[0, 0, 0, 0, 0, 0, 0, 0, 0, 0], [0, 1, 2, 3, 4, 5, 6, 7, 8, 9], [0, 2, 4, 6, 8, 10, 12, 14, 16, 18], [0, 3, 6, 9, 12, 15, 18, 21, 24, 27], [0, 4, 8, 12, 16, 20, 24, 28, 32, 36], [0, 5, 10, 15, 20, 25, 30, 35, 40, 45], [0, 6, 12, 18, 24, 30, 36, 42, 48, 54], [0, 7, 14, 21, 28, 35, 42, 49, 56, 63], [0, 8, 16, 24, 32, 40, 48, 56, 64, 72], [0, 9, 18, 27, 36, 45, 54, 63, 72, 81], []]\n",
      "[[0, 0, 0, 0, 0, 0, 0, 0, 0, 0], [0, 1, 2, 3, 4, 5, 6, 7, 8, 9], [0, 2, 4, 6, 8, 10, 12, 14, 16, 18], [0, 3, 6, 9, 12, 15, 18, 21, 24, 27], [0, 4, 8, 12, 16, 20, 24, 28, 32, 36], [0, 5, 10, 15, 20, 25, 30, 35, 40, 45], [0, 6, 12, 18, 24, 30, 36, 42, 48, 54], [0, 7, 14, 21, 28, 35, 42, 49, 56, 63], [0, 8, 16, 24, 32, 40, 48, 56, 64, 72], [0, 9, 18, 27, 36, 45, 54, 63, 72, 81]]\n"
     ]
    }
   ],
   "source": [
    "matrix = [[]]\n",
    "\n",
    "for x in range(10):\n",
    "    matrix.append([])\n",
    "    for y in range(10):\n",
    "        matrix[x].append(x*y)\n",
    "\n",
    "print(matrix)\n",
    "\n",
    "matrix = [[]]\n",
    "matrix = [[x* y for y in range(10)] \n",
    "                for x in range(10)]\n",
    "\n",
    "print(matrix)"
   ]
  },
  {
   "cell_type": "markdown",
   "metadata": {},
   "source": [
    "<h2>    Now with functions </h2>"
   ]
  },
  {
   "cell_type": "code",
   "execution_count": 45,
   "metadata": {},
   "outputs": [
    {
     "name": "stdout",
     "output_type": "stream",
     "text": [
      "[0, 4, 16, 36, 64, 100]\n"
     ]
    }
   ],
   "source": [
    "def square(num):\n",
    "    return num*num\n",
    "\n",
    "square_list = [ square(i) for i in range(10+1) if i % 2 ==0]\n",
    "\n",
    "print(square_list)"
   ]
  },
  {
   "cell_type": "markdown",
   "metadata": {},
   "source": [
    "with generator function"
   ]
  },
  {
   "cell_type": "code",
   "execution_count": 57,
   "metadata": {},
   "outputs": [
    {
     "name": "stdout",
     "output_type": "stream",
     "text": [
      "[0, 4, 16, 36, 64, 100]\n"
     ]
    }
   ],
   "source": [
    "def square():\n",
    "    for num in range (10+1):\n",
    "        yield num\n",
    "\n",
    "square_list = [ num*num for num in square() if num % 2 ==0]\n",
    "print(square_list)"
   ]
  },
  {
   "cell_type": "markdown",
   "metadata": {},
   "source": [
    "Generator in generator"
   ]
  },
  {
   "cell_type": "code",
   "execution_count": 60,
   "metadata": {},
   "outputs": [
    {
     "name": "stdout",
     "output_type": "stream",
     "text": [
      "[0, 4, 16, 36, 64, 100]\n"
     ]
    }
   ],
   "source": [
    "def square():\n",
    "    for num in range (10+1):\n",
    "        yield num\n",
    "\n",
    "#sq = square()\n",
    "square_list = (num*num for num in square() if num % 2 ==0)\n",
    "print([sq_num for sq_num in square_list])"
   ]
  },
  {
   "cell_type": "markdown",
   "metadata": {},
   "source": [
    "<h2>    Now with Dictionary </h2>"
   ]
  },
  {
   "cell_type": "code",
   "execution_count": 68,
   "metadata": {},
   "outputs": [
    {
     "name": "stdout",
     "output_type": "stream",
     "text": [
      "{'iphone': 599, 'mac': 1599, 'monitor': 399}\n",
      "1599\n",
      "[('iphone', 599), ('mac', 1599), ('monitor', 399)]\n",
      "599\n"
     ]
    }
   ],
   "source": [
    "items = [\"iphone\",\"mac\",\"monitor\",]\n",
    "price = [599,1599,399]\n",
    "\n",
    "item_price = {i:p for i,p in zip(items,price)}\n",
    "print(item_price)\n",
    "print(item_price['mac'])\n",
    "\n",
    "# list of tuples \n",
    "item_price = [(i,p) for i,p in zip(items,price)]\n",
    "print(item_price)\n",
    "print(item_price[0][1])"
   ]
  },
  {
   "cell_type": "markdown",
   "metadata": {},
   "source": [
    "CARE with no key it is a set"
   ]
  },
  {
   "cell_type": "code",
   "execution_count": 71,
   "metadata": {},
   "outputs": [
    {
     "name": "stdout",
     "output_type": "stream",
     "text": [
      "{3, 4, 5, 6, 7, 8}\n",
      "{3, 4, 5, 6, 7, 8}\n",
      "(3, 3, 4, 4, 5, 6, 7, 7, 8, 8)\n"
     ]
    }
   ],
   "source": [
    "nums = {3 , 3 , 4, 4, 5, 6, 7, 7, 8, 8,}\n",
    "print(nums)\n",
    "# or\n",
    "nums = [3 , 3 , 4, 4, 5, 6, 7, 7, 8, 8]\n",
    "print({v for v in nums})\n",
    "\n",
    "print((3 , 3 , 4, 4, 5, 6, 7, 7, 8, 8,)) # ToDo diff in tuples and list"
   ]
  }
 ],
 "metadata": {
  "kernelspec": {
   "display_name": "Python 3",
   "language": "python",
   "name": "python3"
  },
  "language_info": {
   "codemirror_mode": {
    "name": "ipython",
    "version": 3
   },
   "file_extension": ".py",
   "mimetype": "text/x-python",
   "name": "python",
   "nbconvert_exporter": "python",
   "pygments_lexer": "ipython3",
   "version": "3.9.6"
  }
 },
 "nbformat": 4,
 "nbformat_minor": 2
}
